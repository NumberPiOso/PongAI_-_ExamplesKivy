{
 "cells": [
  {
   "cell_type": "code",
   "execution_count": 9,
   "metadata": {},
   "outputs": [],
   "source": [
    "import numpy as np\n",
    "from sklearn.model_selection import train_test_split\n",
    "from sklearn.linear_model import LinearRegression"
   ]
  },
  {
   "cell_type": "code",
   "execution_count": 4,
   "metadata": {},
   "outputs": [],
   "source": [
    "data = np.loadtxt('training_data1.txt')"
   ]
  },
  {
   "cell_type": "code",
   "execution_count": 6,
   "metadata": {},
   "outputs": [],
   "source": [
    "X, y = data[:, :-1], data[:, -1]"
   ]
  },
  {
   "cell_type": "code",
   "execution_count": 8,
   "metadata": {},
   "outputs": [
    {
     "data": {
      "text/plain": [
       "array([311.5       , 534.45925   , 275.        , 308.        ,\n",
       "       502.264     , 275.        , 308.        , 502.264     ,\n",
       "       275.        , 308.        , 502.264     , 275.        ,\n",
       "       308.        , 502.264     , 275.        , 308.        ,\n",
       "       502.264     , 275.        , 308.        , 502.264     ,\n",
       "       275.        , 308.        , 502.264     , 275.        ,\n",
       "       308.        , 502.264     , 275.        , 308.        ,\n",
       "       502.264     , 275.        , 308.        , 435.938     ,\n",
       "       470.10594186, 241.99547071, 311.5       , 311.5       ,\n",
       "       311.5       , 311.5       , 311.5       , 311.5       ,\n",
       "       311.5       , 311.5       , 311.5       , 311.5       ,\n",
       "       311.5       , 311.5       , 311.5       , 311.5       ,\n",
       "       311.5       , 311.5       , 503.62515   , 450.015014  ,\n",
       "       193.68770277,  22.87779012, 179.18296751, 365.40753547,\n",
       "       508.42171756, 482.07632691, 324.20993429,  49.36408425,\n",
       "       327.73942245, 275.        , 502.661     , 275.        ,\n",
       "       504.1728    ,  85.417408  , 334.00508056, 376.40414114,\n",
       "       288.0744113 , 275.        ])"
      ]
     },
     "execution_count": 8,
     "metadata": {},
     "output_type": "execute_result"
    }
   ],
   "source": [
    "X_train, X_test, y_train, y_test = train_test_split(\n",
    "                                         X, y, test_size=0.20, random_state=42)"
   ]
  },
  {
   "cell_type": "code",
   "execution_count": null,
   "metadata": {},
   "outputs": [],
   "source": []
  }
 ],
 "metadata": {
  "kernelspec": {
   "display_name": "Python 3",
   "language": "python",
   "name": "python3"
  },
  "language_info": {
   "codemirror_mode": {
    "name": "ipython",
    "version": 3
   },
   "file_extension": ".py",
   "mimetype": "text/x-python",
   "name": "python",
   "nbconvert_exporter": "python",
   "pygments_lexer": "ipython3",
   "version": "3.7.4"
  }
 },
 "nbformat": 4,
 "nbformat_minor": 4
}
